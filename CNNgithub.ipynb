{
  "nbformat": 4,
  "nbformat_minor": 0,
  "metadata": {
    "colab": {
      "name": "CNNgithub.ipynb",
      "provenance": [],
      "collapsed_sections": []
    },
    "kernelspec": {
      "name": "python3",
      "display_name": "Python 3"
    },
    "language_info": {
      "name": "python"
    },
    "accelerator": "GPU"
  },
  "cells": [
    {
      "cell_type": "code",
      "metadata": {
        "id": "n3DYlWrbzd3A"
      },
      "source": [
        "import tensorflow as tf\n",
        "from tensorflow import keras\n",
        "\n",
        "import matplotlib.pyplot as plt\n",
        "import numpy as np\n",
        "import pandas as pd"
      ],
      "execution_count": null,
      "outputs": []
    },
    {
      "cell_type": "code",
      "metadata": {
        "colab": {
          "base_uri": "https://localhost:8080/"
        },
        "id": "GpdVBl4HKqBb",
        "outputId": "f72db852-e444-4713-b1be-ede8a0db4bd9"
      },
      "source": [
        "mnist = keras.datasets.mnist\n",
        "(train_images, train_labels), (test_images, test_labels) = mnist.load_data()\n",
        "\n",
        "# Normalize the input image so that each pixel value is between 0 to 1.\n",
        "train_images = train_images / 255.0\n",
        "test_images = test_images / 255.0\n",
        "\n",
        "# Add a color dimension to the images in \"train\" and \"validate\" dataset to\n",
        "# leverage Keras's data augmentation utilities later.\n",
        "train_images = np.expand_dims(train_images, axis=3)\n",
        "test_images = np.expand_dims(test_images, axis=3)"
      ],
      "execution_count": null,
      "outputs": [
        {
          "output_type": "stream",
          "text": [
            "Downloading data from https://storage.googleapis.com/tensorflow/tf-keras-datasets/mnist.npz\n",
            "11493376/11490434 [==============================] - 0s 0us/step\n"
          ],
          "name": "stdout"
        }
      ]
    },
    {
      "cell_type": "code",
      "metadata": {
        "id": "1Xbz5OU1TkrW"
      },
      "source": [
        "def create_model():\n",
        "  model = keras.Sequential([\n",
        "    keras.layers.InputLayer(input_shape=(28, 28, 1)),\n",
        "    keras.layers.Conv2D(filters=32, kernel_size=(5, 5), activation=tf.nn.relu),\n",
        "    keras.layers.Conv2D(filters=64, kernel_size=(3, 3), activation=tf.nn.relu),\n",
        "    keras.layers.MaxPooling2D(pool_size=(2, 2)),\n",
        "    keras.layers.Dropout(0.25),\n",
        "    keras.layers.Flatten(),\n",
        "    keras.layers.Dense(256, activation=tf.nn.relu),\n",
        "    keras.layers.Dense(10, activation=tf.nn.softmax)\n",
        "  ])\n",
        "  model.compile(optimizer='adam',\n",
        "                loss='sparse_categorical_crossentropy',\n",
        "                metrics=['accuracy'])\n",
        "  return model"
      ],
      "execution_count": null,
      "outputs": []
    },
    {
      "cell_type": "code",
      "metadata": {
        "id": "giOo_WqsLo2Y"
      },
      "source": [
        "#Data Augmentation to improve accuracy of model on user inputted data\n",
        "datagen = keras.preprocessing.image.ImageDataGenerator(\n",
        "  rotation_range=30,\n",
        "  width_shift_range=0.25,\n",
        "  height_shift_range=0.25,\n",
        "  shear_range=0.25,\n",
        "  zoom_range=0.2\n",
        ")\n",
        "# Generate augmented data from MNIST dataset\n",
        "train_generator = datagen.flow(train_images, train_labels)\n",
        "test_generator = datagen.flow(test_images, test_labels)"
      ],
      "execution_count": null,
      "outputs": []
    },
    {
      "cell_type": "code",
      "metadata": {
        "colab": {
          "base_uri": "https://localhost:8080/"
        },
        "id": "mot0HvGTMOFL",
        "outputId": "605bbe54-d3fd-4cb5-c062-20107b473890"
      },
      "source": [
        "imp_model = create_model()\n",
        "history=imp_model.fit(train_generator, epochs=20, validation_data=test_generator)"
      ],
      "execution_count": null,
      "outputs": [
        {
          "output_type": "stream",
          "text": [
            "Epoch 1/20\n",
            "1875/1875 [==============================] - 25s 13ms/step - loss: 0.9452 - accuracy: 0.6802 - val_loss: 0.2246 - val_accuracy: 0.9299\n",
            "Epoch 2/20\n",
            "1875/1875 [==============================] - 25s 13ms/step - loss: 0.2481 - accuracy: 0.9231 - val_loss: 0.1667 - val_accuracy: 0.9473\n",
            "Epoch 3/20\n",
            "1875/1875 [==============================] - 24s 13ms/step - loss: 0.1875 - accuracy: 0.9412 - val_loss: 0.1313 - val_accuracy: 0.9568\n",
            "Epoch 4/20\n",
            "1875/1875 [==============================] - 24s 13ms/step - loss: 0.1593 - accuracy: 0.9503 - val_loss: 0.1289 - val_accuracy: 0.9596\n",
            "Epoch 5/20\n",
            "1875/1875 [==============================] - 24s 13ms/step - loss: 0.1375 - accuracy: 0.9571 - val_loss: 0.1264 - val_accuracy: 0.9597\n",
            "Epoch 6/20\n",
            "1875/1875 [==============================] - 24s 13ms/step - loss: 0.1371 - accuracy: 0.9570 - val_loss: 0.1033 - val_accuracy: 0.9697\n",
            "Epoch 7/20\n",
            "1875/1875 [==============================] - 25s 13ms/step - loss: 0.1149 - accuracy: 0.9640 - val_loss: 0.0901 - val_accuracy: 0.9718\n",
            "Epoch 8/20\n",
            "1875/1875 [==============================] - 25s 13ms/step - loss: 0.1098 - accuracy: 0.9654 - val_loss: 0.0898 - val_accuracy: 0.9722\n",
            "Epoch 9/20\n",
            "1875/1875 [==============================] - 25s 13ms/step - loss: 0.1074 - accuracy: 0.9664 - val_loss: 0.0850 - val_accuracy: 0.9733\n",
            "Epoch 10/20\n",
            "1875/1875 [==============================] - 25s 13ms/step - loss: 0.1045 - accuracy: 0.9686 - val_loss: 0.0945 - val_accuracy: 0.9686\n",
            "Epoch 11/20\n",
            "1875/1875 [==============================] - 25s 13ms/step - loss: 0.0980 - accuracy: 0.9696 - val_loss: 0.0788 - val_accuracy: 0.9761\n",
            "Epoch 12/20\n",
            "1875/1875 [==============================] - 25s 13ms/step - loss: 0.0989 - accuracy: 0.9701 - val_loss: 0.0756 - val_accuracy: 0.9750\n",
            "Epoch 13/20\n",
            "1875/1875 [==============================] - 25s 13ms/step - loss: 0.0979 - accuracy: 0.9694 - val_loss: 0.0763 - val_accuracy: 0.9763\n",
            "Epoch 14/20\n",
            "1875/1875 [==============================] - 25s 13ms/step - loss: 0.0912 - accuracy: 0.9715 - val_loss: 0.0734 - val_accuracy: 0.9768\n",
            "Epoch 15/20\n",
            "1875/1875 [==============================] - 25s 13ms/step - loss: 0.0921 - accuracy: 0.9717 - val_loss: 0.0755 - val_accuracy: 0.9754\n",
            "Epoch 16/20\n",
            "1875/1875 [==============================] - 25s 13ms/step - loss: 0.0894 - accuracy: 0.9723 - val_loss: 0.0621 - val_accuracy: 0.9803\n",
            "Epoch 17/20\n",
            "1875/1875 [==============================] - 25s 13ms/step - loss: 0.0811 - accuracy: 0.9746 - val_loss: 0.0621 - val_accuracy: 0.9808\n",
            "Epoch 18/20\n",
            "1875/1875 [==============================] - 25s 13ms/step - loss: 0.0827 - accuracy: 0.9760 - val_loss: 0.0686 - val_accuracy: 0.9801\n",
            "Epoch 19/20\n",
            "1875/1875 [==============================] - 25s 13ms/step - loss: 0.0766 - accuracy: 0.9761 - val_loss: 0.0649 - val_accuracy: 0.9795\n",
            "Epoch 20/20\n",
            "1875/1875 [==============================] - 24s 13ms/step - loss: 0.0801 - accuracy: 0.9764 - val_loss: 0.0682 - val_accuracy: 0.9787\n"
          ],
          "name": "stdout"
        }
      ]
    },
    {
      "cell_type": "code",
      "metadata": {
        "colab": {
          "base_uri": "https://localhost:8080/"
        },
        "id": "GaxwpA4uM-bN",
        "outputId": "d729bc80-adef-4431-ae56-07906ed7a7e0"
      },
      "source": [
        "print(imp_model.summary())\n",
        "print(history.history)"
      ],
      "execution_count": null,
      "outputs": [
        {
          "output_type": "stream",
          "text": [
            "Model: \"sequential_2\"\n",
            "_________________________________________________________________\n",
            "Layer (type)                 Output Shape              Param #   \n",
            "=================================================================\n",
            "conv2d_4 (Conv2D)            (None, 24, 24, 32)        832       \n",
            "_________________________________________________________________\n",
            "conv2d_5 (Conv2D)            (None, 22, 22, 64)        18496     \n",
            "_________________________________________________________________\n",
            "max_pooling2d_2 (MaxPooling2 (None, 11, 11, 64)        0         \n",
            "_________________________________________________________________\n",
            "dropout_2 (Dropout)          (None, 11, 11, 64)        0         \n",
            "_________________________________________________________________\n",
            "flatten_2 (Flatten)          (None, 7744)              0         \n",
            "_________________________________________________________________\n",
            "dense_4 (Dense)              (None, 256)               1982720   \n",
            "_________________________________________________________________\n",
            "dense_5 (Dense)              (None, 10)                2570      \n",
            "=================================================================\n",
            "Total params: 2,004,618\n",
            "Trainable params: 2,004,618\n",
            "Non-trainable params: 0\n",
            "_________________________________________________________________\n",
            "None\n",
            "{'loss': [0.5504383444786072, 0.22629351913928986, 0.17967350780963898, 0.15315452218055725, 0.13940978050231934, 0.13091091811656952, 0.1194450780749321, 0.11153551936149597, 0.10844484716653824, 0.10383058339357376, 0.0986492857336998, 0.09501209855079651, 0.09850309789180756, 0.08942010253667831, 0.09093565493822098, 0.08850070089101791, 0.08144685626029968, 0.0832166001200676, 0.08088481426239014, 0.08224532753229141], 'accuracy': [0.822700023651123, 0.9299833178520203, 0.9434666633605957, 0.9524999856948853, 0.9567833542823792, 0.9593333601951599, 0.9627166390419006, 0.964733362197876, 0.9664666652679443, 0.9680833220481873, 0.9693166613578796, 0.9710166454315186, 0.9695833325386047, 0.9715833067893982, 0.9721333384513855, 0.9726499915122986, 0.9747333526611328, 0.9750333428382874, 0.9747666716575623, 0.9755499958992004], 'val_loss': [0.22460485994815826, 0.16671839356422424, 0.13125748932361603, 0.1289272904396057, 0.12638993561267853, 0.10328377783298492, 0.09005488455295563, 0.08975659310817719, 0.08497064560651779, 0.09446767717599869, 0.07882034033536911, 0.07563742995262146, 0.07627516984939575, 0.07339926809072495, 0.07549876719713211, 0.062130559235811234, 0.062054093927145004, 0.06857545673847198, 0.06488530337810516, 0.0682477131485939], 'val_accuracy': [0.9298999905586243, 0.9473000168800354, 0.9567999839782715, 0.9595999717712402, 0.9596999883651733, 0.9696999788284302, 0.9718000292778015, 0.9721999764442444, 0.9732999801635742, 0.9685999751091003, 0.9761000275611877, 0.9750000238418579, 0.9763000011444092, 0.9768000245094299, 0.9753999710083008, 0.9803000092506409, 0.9807999730110168, 0.9800999760627747, 0.9794999957084656, 0.9786999821662903]}\n"
          ],
          "name": "stdout"
        }
      ]
    },
    {
      "cell_type": "code",
      "metadata": {
        "colab": {
          "base_uri": "https://localhost:8080/",
          "height": 295
        },
        "id": "g9bgiT3BWyVM",
        "outputId": "1676272f-bb8f-414a-94c1-566187d25780"
      },
      "source": [
        "# summarize history for accuracy\n",
        "plt.plot(history.history['accuracy'])\n",
        "plt.plot(history.history['val_accuracy'])\n",
        "plt.title('model accuracy')\n",
        "plt.ylabel('accuracy')\n",
        "plt.xlabel('epoch')\n",
        "plt.legend(['train', 'test'], loc='upper left')\n",
        "plt.show()"
      ],
      "execution_count": null,
      "outputs": [
        {
          "output_type": "display_data",
          "data": {
            "image/png": "[encoded data removed]",
            "text/plain": [
              "<Figure size 432x288 with 1 Axes>"
            ]
          },
          "metadata": {
            "tags": [],
            "needs_background": "light"
          }
        }
      ]
    },
    {
      "cell_type": "code",
      "metadata": {
        "colab": {
          "base_uri": "https://localhost:8080/",
          "height": 295
        },
        "id": "9Tk2fHEoXF46",
        "outputId": "df845030-15b2-4222-975e-087c51305ea3"
      },
      "source": [
        "# summarize history for loss\n",
        "plt.plot(history.history['loss'])\n",
        "plt.plot(history.history['val_loss'])\n",
        "plt.title('model loss')\n",
        "plt.ylabel('loss')\n",
        "plt.xlabel('epoch')\n",
        "plt.legend(['train', 'test'], loc='upper left')\n",
        "plt.show()"
      ],
      "execution_count": null,
      "outputs": [
        {
          "output_type": "display_data",
          "data": {
            "image/png": "[encoded data removed]",
            "text/plain": [
              "<Figure size 432x288 with 1 Axes>"
            ]
          },
          "metadata": {
            "tags": [],
            "needs_background": "light"
          }
        }
      ]
    },
    {
      "cell_type": "code",
      "metadata": {
        "colab": {
          "base_uri": "https://localhost:8080/"
        },
        "id": "36lVV4ndZubX",
        "outputId": "b6d86bba-7048-49a9-ef94-08478010df7a"
      },
      "source": [
        "from google.colab import drive\n",
        "drive.mount('/content/drive')"
      ],
      "execution_count": null,
      "outputs": [
        {
          "output_type": "stream",
          "text": [
            "Mounted at /content/drive\n"
          ],
          "name": "stdout"
        }
      ]
    },
    {
      "cell_type": "code",
      "metadata": {
        "colab": {
          "base_uri": "https://localhost:8080/"
        },
        "id": "LM8EUteKaPvW",
        "outputId": "149ed1e0-10eb-4c9d-c396-33bc5b56de8d"
      },
      "source": [
        "imp_model.save('/content/drive/MyDrive/cnnmodel1')"
      ],
      "execution_count": null,
      "outputs": [
        {
          "output_type": "stream",
          "text": [
            "INFO:tensorflow:Assets written to: /content/drive/MyDrive/cnnmodel1/assets\n"
          ],
          "name": "stdout"
        }
      ]
    },
    {
      "cell_type": "code",
      "metadata": {
        "id": "EVzHuKp2xruj"
      },
      "source": [
        "new_model = tf.keras.models.load_model('/content/drive/MyDrive/cnnmodel1')"
      ],
      "execution_count": null,
      "outputs": []
    },
    {
      "cell_type": "code",
      "metadata": {
        "colab": {
          "base_uri": "https://localhost:8080/"
        },
        "id": "O0e2jjTha23R",
        "outputId": "12f066c4-bcec-4305-d9eb-f5eb1f9a57d2"
      },
      "source": [
        "mnist = keras.datasets.mnist\n",
        "(train_images, train_labels), (test_images, test_labels) = mnist.load_data()\n",
        "\n",
        "\n",
        "# Normalize the input image so that each pixel value is between 0 to 1.\n",
        "train_images = train_images / 255.0\n",
        "test_images = test_images / 255.0\n",
        "print (train_images.shape)\n",
        "# Add a color dimension to the images in \"train\" and \"validate\" dataset to\n",
        "# leverage Keras's data augmentation utilities later.\n",
        "train_images = np.expand_dims(train_images, axis=3)\n",
        "test_images = np.expand_dims(test_images, axis=3)\n",
        "print(train_images.shape)"
      ],
      "execution_count": null,
      "outputs": [
        {
          "output_type": "stream",
          "text": [
            "(60000, 28, 28)\n",
            "(60000, 28, 28, 1)\n"
          ],
          "name": "stdout"
        }
      ]
    },
    {
      "cell_type": "code",
      "metadata": {
        "colab": {
          "base_uri": "https://localhost:8080/"
        },
        "id": "LgaHvePTx-01",
        "outputId": "cd188230-f612-47e0-a51f-f134d79e7588"
      },
      "source": [
        "\n",
        "new_model.evaluate(test_images,test_labels)"
      ],
      "execution_count": null,
      "outputs": [
        {
          "output_type": "stream",
          "text": [
            "313/313 [==============================] - 33s 3ms/step - loss: 0.0325 - accuracy: 0.9889\n"
          ],
          "name": "stdout"
        },
        {
          "output_type": "execute_result",
          "data": {
            "text/plain": [
              "[0.03253009170293808, 0.9889000058174133]"
            ]
          },
          "metadata": {
            "tags": []
          },
          "execution_count": 13
        }
      ]
    },
    {
      "cell_type": "markdown",
      "metadata": {
        "id": "rKEZmD2lfljn"
      },
      "source": [
        "hence, we see that our model performs pretty well on non-augmented images also."
      ]
    },
    {
      "cell_type": "code",
      "metadata": {
        "id": "BFO4rdmjMw1w"
      },
      "source": [
        "#saving model in js format so that it can be used in a webpage\n",
        "import tensorflowjs as tfjs\n",
        "tfjs.converters.save_keras_model(new_model, 'cnnmodeljs')\n"
      ],
      "execution_count": null,
      "outputs": []
    }
  ]
}